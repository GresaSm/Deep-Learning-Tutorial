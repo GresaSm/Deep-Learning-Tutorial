{
 "cells": [
  {
   "cell_type": "markdown",
   "metadata": {},
   "source": [
    "1. Pre-processing: Data cleaning and preparing for modelling\n",
    "\n",
    "- We will be working on Topic Modelling with BERTopic using the Kaggle news dataset, with news aricles from different mediums in the period 01.10.2023 - 29.11.2023"
   ]
  },
  {
   "cell_type": "code",
   "execution_count": 169,
   "metadata": {},
   "outputs": [],
   "source": [
    "# libraries\n",
    "import pandas as pd\n",
    "import numpy as np\n",
    "from langdetect import detect"
   ]
  },
  {
   "cell_type": "code",
   "execution_count": 170,
   "metadata": {},
   "outputs": [],
   "source": [
    "# read csv file\n",
    "all_news_df = pd.read_csv('/Users/gresasmolica/Downloads/data-5.csv', encoding='utf-8')"
   ]
  },
  {
   "cell_type": "code",
   "execution_count": 171,
   "metadata": {},
   "outputs": [
    {
     "name": "stdout",
     "output_type": "stream",
     "text": [
      "<class 'pandas.core.frame.DataFrame'>\n",
      "RangeIndex: 105375 entries, 0 to 105374\n",
      "Data columns (total 12 columns):\n",
      " #   Column        Non-Null Count   Dtype \n",
      "---  ------        --------------   ----- \n",
      " 0   article_id    105375 non-null  int64 \n",
      " 1   source_id     24495 non-null   object\n",
      " 2   source_name   105375 non-null  object\n",
      " 3   author        97156 non-null   object\n",
      " 4   title         105335 non-null  object\n",
      " 5   description   104992 non-null  object\n",
      " 6   url           105375 non-null  object\n",
      " 7   url_to_image  99751 non-null   object\n",
      " 8   published_at  105375 non-null  object\n",
      " 9   content       105375 non-null  object\n",
      " 10  category      105333 non-null  object\n",
      " 11  full_content  58432 non-null   object\n",
      "dtypes: int64(1), object(11)\n",
      "memory usage: 9.6+ MB\n"
     ]
    }
   ],
   "source": [
    "# explore data\n",
    "all_news_df.head()\n",
    "all_news_df.info()\n",
    "all_news_df.describe()\n",
    "all_news_df.columns\n",
    "\n",
    "# check latest date\n",
    "all_news_df['published_at'].max()\n",
    "all_news_df['published_at'].min()\n",
    "\n",
    "# check unique source_name\n",
    "all_news_df['source_name'].nunique()\n",
    "\n",
    "# drop unnecessary columns\n",
    "all_news_df.drop(['author', 'source_id', 'source_name', 'description', 'content', 'url', 'url_to_image'], axis=1, inplace=True)"
   ]
  },
  {
   "cell_type": "code",
   "execution_count": 172,
   "metadata": {},
   "outputs": [],
   "source": [
    "# filter english news content only\n",
    "def is_english(text):\n",
    "    try:\n",
    "        return detect(text) == 'en'\n",
    "    except:\n",
    "        return False\n",
    "    \n",
    "english_news_df = all_news_df[all_news_df['full_content'].apply(is_english)]"
   ]
  },
  {
   "cell_type": "code",
   "execution_count": 173,
   "metadata": {},
   "outputs": [],
   "source": [
    "# filter english titles only\n",
    "english_news_df = english_news_df[english_news_df['title'].apply(is_english)]"
   ]
  },
  {
   "cell_type": "code",
   "execution_count": 193,
   "metadata": {},
   "outputs": [
    {
     "data": {
      "text/plain": [
       "category\n",
       "Stock          3534\n",
       "Canada         2175\n",
       "Health         2013\n",
       "Real estate    1941\n",
       "Technology     1919\n",
       "               ... \n",
       "Cabo Verde        3\n",
       "Honduras          3\n",
       "Burundi           3\n",
       "Andorra           3\n",
       "Martinique        2\n",
       "Name: count, Length: 255, dtype: int64"
      ]
     },
     "execution_count": 193,
     "metadata": {},
     "output_type": "execute_result"
    }
   ],
   "source": [
    "# reset the display of rows not to show all the rows\n",
    "pd.set_option('display.max_rows', 100)\n",
    "\n",
    "english_news_df['category'].value_counts()\n"
   ]
  },
  {
   "cell_type": "code",
   "execution_count": 194,
   "metadata": {},
   "outputs": [
    {
     "name": "stdout",
     "output_type": "stream",
     "text": [
      "category\n",
      "Stock                      3534\n",
      "Canada                     2175\n",
      "Health                     2013\n",
      "Real estate                1941\n",
      "Technology                 1919\n",
      "Finance                    1678\n",
      "News                       1324\n",
      "COVID                      1313\n",
      "Education                  1276\n",
      "India                      1090\n",
      "Food                       1073\n",
      "Asia                        934\n",
      "Jobs                        925\n",
      "Weather                     917\n",
      "Australia                   880\n",
      "Travel                      877\n",
      "Science                     863\n",
      "United Kingdom              745\n",
      "Africa                      739\n",
      "Cars                        721\n",
      "America                     676\n",
      "Climate                     674\n",
      "Artificial Intelligence     670\n",
      "Home                        647\n",
      "Fashion                     623\n",
      "Facebook                    581\n",
      "Ukraine                     574\n",
      "Sports                      568\n",
      "Mexico                      558\n",
      "Relationships               557\n",
      "United States               555\n",
      "Google                      552\n",
      "Music                       531\n",
      "Sustainability              506\n",
      "Politics                    502\n",
      "Name: count, dtype: int64\n"
     ]
    }
   ],
   "source": [
    "# drop null values\n",
    "english_news_df.dropna()\n",
    "english_news_df['category'].value_counts()\n",
    "\n",
    "# print categories that have more 1000 news\n",
    "\n",
    "print(english_news_df['category'].value_counts()[(english_news_df['category'].value_counts() > 500)])"
   ]
  },
  {
   "cell_type": "code",
   "execution_count": 204,
   "metadata": {},
   "outputs": [
    {
     "data": {
      "text/html": [
       "<div>\n",
       "<style scoped>\n",
       "    .dataframe tbody tr th:only-of-type {\n",
       "        vertical-align: middle;\n",
       "    }\n",
       "\n",
       "    .dataframe tbody tr th {\n",
       "        vertical-align: top;\n",
       "    }\n",
       "\n",
       "    .dataframe thead th {\n",
       "        text-align: right;\n",
       "    }\n",
       "</style>\n",
       "<table border=\"1\" class=\"dataframe\">\n",
       "  <thead>\n",
       "    <tr style=\"text-align: right;\">\n",
       "      <th></th>\n",
       "      <th>article_id</th>\n",
       "      <th>title</th>\n",
       "      <th>published_at</th>\n",
       "      <th>category</th>\n",
       "      <th>full_content</th>\n",
       "    </tr>\n",
       "  </thead>\n",
       "  <tbody>\n",
       "    <tr>\n",
       "      <th>2585</th>\n",
       "      <td>94368</td>\n",
       "      <td>LinkedIn hits 1 billion members, adds AI featu...</td>\n",
       "      <td>2023-11-02 03:48:44.000000</td>\n",
       "      <td>Stock</td>\n",
       "      <td>LinkedIn, the business-focused social network ...</td>\n",
       "    </tr>\n",
       "    <tr>\n",
       "      <th>3071</th>\n",
       "      <td>94410</td>\n",
       "      <td>WeWork to start closing some offices around th...</td>\n",
       "      <td>2023-11-02 00:20:25.000000</td>\n",
       "      <td>Stock</td>\n",
       "      <td>The troubled office-sharing firm WeWork is to ...</td>\n",
       "    </tr>\n",
       "    <tr>\n",
       "      <th>3091</th>\n",
       "      <td>94318</td>\n",
       "      <td>Montana GOP Senate candidate would be in the t...</td>\n",
       "      <td>2023-11-02 20:35:30.000000</td>\n",
       "      <td>Stock</td>\n",
       "      <td>Tim Sheehy, theGOP's anointed candidateto unse...</td>\n",
       "    </tr>\n",
       "    <tr>\n",
       "      <th>3094</th>\n",
       "      <td>94321</td>\n",
       "      <td>The Fed and war in the Middle East are the 2 t...</td>\n",
       "      <td>2023-11-02 16:32:51.000000</td>\n",
       "      <td>Stock</td>\n",
       "      <td>The US is facing two risks that could push the...</td>\n",
       "    </tr>\n",
       "    <tr>\n",
       "      <th>3096</th>\n",
       "      <td>94323</td>\n",
       "      <td>The biggest debate in tech</td>\n",
       "      <td>2023-11-02 11:52:11.000000</td>\n",
       "      <td>Stock</td>\n",
       "      <td>Almost Friday!The pics are in from Heidi Klum...</td>\n",
       "    </tr>\n",
       "    <tr>\n",
       "      <th>...</th>\n",
       "      <td>...</td>\n",
       "      <td>...</td>\n",
       "      <td>...</td>\n",
       "      <td>...</td>\n",
       "      <td>...</td>\n",
       "    </tr>\n",
       "    <tr>\n",
       "      <th>104649</th>\n",
       "      <td>765220</td>\n",
       "      <td>Vow ASA: Extraordinary General Meeting in Vow ...</td>\n",
       "      <td>2023-11-29 13:04:00</td>\n",
       "      <td>Food</td>\n",
       "      <td>The EGM in Vow has been concluded, and the boa...</td>\n",
       "    </tr>\n",
       "    <tr>\n",
       "      <th>104650</th>\n",
       "      <td>765224</td>\n",
       "      <td>SharkNinja (NYSE:SN) Shares Down 3.7%</td>\n",
       "      <td>2023-11-29 13:06:42</td>\n",
       "      <td>Food</td>\n",
       "      <td>SharkNinja, Inc. (NYSE:SN–Get Free Report)’s s...</td>\n",
       "    </tr>\n",
       "    <tr>\n",
       "      <th>104651</th>\n",
       "      <td>765225</td>\n",
       "      <td>CAVA Group (NYSE:CAVA) Shares Up 3.3%</td>\n",
       "      <td>2023-11-29 13:04:44</td>\n",
       "      <td>Food</td>\n",
       "      <td>CAVA Group, Inc. (NYSE:CAVA–Get Free Report)’s...</td>\n",
       "    </tr>\n",
       "    <tr>\n",
       "      <th>104652</th>\n",
       "      <td>765246</td>\n",
       "      <td>Berenberg Bank Cuts Pets at Home Group (LON:PE...</td>\n",
       "      <td>2023-11-29 13:20:45</td>\n",
       "      <td>Food</td>\n",
       "      <td>Pets at Home Group (LON:PETS–Get Free Report)h...</td>\n",
       "    </tr>\n",
       "    <tr>\n",
       "      <th>104653</th>\n",
       "      <td>765263</td>\n",
       "      <td>Pancreatic Cancer Market revenue to reach USD ...</td>\n",
       "      <td>2023-11-29 10:30:00</td>\n",
       "      <td>Food</td>\n",
       "      <td>New York, Nov.  29, 2023  (GLOBE NEWSWIRE) -- ...</td>\n",
       "    </tr>\n",
       "  </tbody>\n",
       "</table>\n",
       "<p>9852 rows × 5 columns</p>\n",
       "</div>"
      ],
      "text/plain": [
       "        article_id                                              title  \\\n",
       "2585         94368  LinkedIn hits 1 billion members, adds AI featu...   \n",
       "3071         94410  WeWork to start closing some offices around th...   \n",
       "3091         94318  Montana GOP Senate candidate would be in the t...   \n",
       "3094         94321  The Fed and war in the Middle East are the 2 t...   \n",
       "3096         94323                         The biggest debate in tech   \n",
       "...            ...                                                ...   \n",
       "104649      765220  Vow ASA: Extraordinary General Meeting in Vow ...   \n",
       "104650      765224              SharkNinja (NYSE:SN) Shares Down 3.7%   \n",
       "104651      765225              CAVA Group (NYSE:CAVA) Shares Up 3.3%   \n",
       "104652      765246  Berenberg Bank Cuts Pets at Home Group (LON:PE...   \n",
       "104653      765263  Pancreatic Cancer Market revenue to reach USD ...   \n",
       "\n",
       "                      published_at category  \\\n",
       "2585    2023-11-02 03:48:44.000000    Stock   \n",
       "3071    2023-11-02 00:20:25.000000    Stock   \n",
       "3091    2023-11-02 20:35:30.000000    Stock   \n",
       "3094    2023-11-02 16:32:51.000000    Stock   \n",
       "3096    2023-11-02 11:52:11.000000    Stock   \n",
       "...                            ...      ...   \n",
       "104649         2023-11-29 13:04:00     Food   \n",
       "104650         2023-11-29 13:06:42     Food   \n",
       "104651         2023-11-29 13:04:44     Food   \n",
       "104652         2023-11-29 13:20:45     Food   \n",
       "104653         2023-11-29 10:30:00     Food   \n",
       "\n",
       "                                             full_content  \n",
       "2585    LinkedIn, the business-focused social network ...  \n",
       "3071    The troubled office-sharing firm WeWork is to ...  \n",
       "3091    Tim Sheehy, theGOP's anointed candidateto unse...  \n",
       "3094    The US is facing two risks that could push the...  \n",
       "3096     Almost Friday!The pics are in from Heidi Klum...  \n",
       "...                                                   ...  \n",
       "104649  The EGM in Vow has been concluded, and the boa...  \n",
       "104650  SharkNinja, Inc. (NYSE:SN–Get Free Report)’s s...  \n",
       "104651  CAVA Group, Inc. (NYSE:CAVA–Get Free Report)’s...  \n",
       "104652  Pets at Home Group (LON:PETS–Get Free Report)h...  \n",
       "104653  New York, Nov.  29, 2023  (GLOBE NEWSWIRE) -- ...  \n",
       "\n",
       "[9852 rows x 5 columns]"
      ]
     },
     "execution_count": 204,
     "metadata": {},
     "output_type": "execute_result"
    }
   ],
   "source": [
    "# filter the category to keep: politics, europe, united states, climate, sustainability.\n",
    "\n",
    "selected_categories = ['Stock', 'Health', 'Technology', 'Food','COVID']\n",
    "\n",
    "subset_english_news_df = english_news_df[english_news_df['category'].isin(selected_categories)]\n",
    "\n",
    "subset_english_news_df"
   ]
  },
  {
   "cell_type": "code",
   "execution_count": 216,
   "metadata": {},
   "outputs": [],
   "source": [
    "# performing predictions\n",
    "\n",
    "from sklearn.model_selection import train_test_split\n",
    "from bertopic import BERTopic\n",
    "from sklearn.metrics import classification_report, confusion_matrix\n",
    "import numpy as np\n"
   ]
  },
  {
   "cell_type": "code",
   "execution_count": 217,
   "metadata": {},
   "outputs": [],
   "source": [
    "# Split the filtered dataset into training and testing sets\n",
    "X_train, X_test, y_train, y_test = train_test_split(\n",
    "    subset_english_news_df['full_content'],\n",
    "    subset_english_news_df['category'],\n",
    "    test_size=0.1,\n",
    "    random_state=42\n",
    ")"
   ]
  },
  {
   "cell_type": "code",
   "execution_count": 218,
   "metadata": {},
   "outputs": [],
   "source": [
    "# Train BERTopic model on the training set\n",
    "topic_model = BERTopic()\n",
    "topics_train, _ = topic_model.fit_transform(X_train.tolist())"
   ]
  },
  {
   "cell_type": "code",
   "execution_count": 219,
   "metadata": {},
   "outputs": [],
   "source": [
    "# Predict topics for the testing set\n",
    "topics_test, _ = topic_model.transform(X_test.tolist())\n",
    "\n",
    "# Map topics to categories\n",
    "category_mapping = {topic: category for topic, category in zip(topics_train, y_train)}"
   ]
  },
  {
   "cell_type": "code",
   "execution_count": 220,
   "metadata": {},
   "outputs": [],
   "source": [
    "# Assign categories to the test set based on the mapping\n",
    "predicted_categories = [category_mapping[topic] for topic in topics_test]"
   ]
  },
  {
   "cell_type": "code",
   "execution_count": 225,
   "metadata": {},
   "outputs": [
    {
     "name": "stdout",
     "output_type": "stream",
     "text": [
      "Classification Report:\n",
      "              precision    recall  f1-score   support\n",
      "\n",
      "       COVID       0.54      0.42      0.47       137\n",
      "        Food       0.42      0.19      0.26       127\n",
      "      Health       0.53      0.36      0.43       218\n",
      "       Stock       0.50      0.85      0.63       339\n",
      "  Technology       0.49      0.30      0.37       165\n",
      "\n",
      "    accuracy                           0.51       986\n",
      "   macro avg       0.50      0.42      0.43       986\n",
      "weighted avg       0.50      0.51      0.47       986\n",
      "\n"
     ]
    },
    {
     "ename": "TypeError",
     "evalue": "'numpy.ndarray' object is not callable",
     "output_type": "error",
     "traceback": [
      "\u001b[0;31m---------------------------------------------------------------------------\u001b[0m",
      "\u001b[0;31mTypeError\u001b[0m                                 Traceback (most recent call last)",
      "\u001b[1;32m/Users/gresasmolica/Desktop/Gresa Smolica/Hertie - MDS/Semester III/DL/Deep-Learning-Tutorial/Pre_processing/pre_processing.ipynb Cell 18\u001b[0m line \u001b[0;36m4\n\u001b[1;32m      <a href='vscode-notebook-cell:/Users/gresasmolica/Desktop/Gresa%20Smolica/Hertie%20-%20MDS/Semester%20III/DL/Deep-Learning-Tutorial/Pre_processing/pre_processing.ipynb#Y101sZmlsZQ%3D%3D?line=0'>1</a>\u001b[0m \u001b[39mprint\u001b[39m(\u001b[39m\"\u001b[39m\u001b[39mClassification Report:\u001b[39m\u001b[39m\"\u001b[39m)\n\u001b[1;32m      <a href='vscode-notebook-cell:/Users/gresasmolica/Desktop/Gresa%20Smolica/Hertie%20-%20MDS/Semester%20III/DL/Deep-Learning-Tutorial/Pre_processing/pre_processing.ipynb#Y101sZmlsZQ%3D%3D?line=1'>2</a>\u001b[0m \u001b[39mprint\u001b[39m(classification_report(y_test, predicted_categories))\n\u001b[0;32m----> <a href='vscode-notebook-cell:/Users/gresasmolica/Desktop/Gresa%20Smolica/Hertie%20-%20MDS/Semester%20III/DL/Deep-Learning-Tutorial/Pre_processing/pre_processing.ipynb#Y101sZmlsZQ%3D%3D?line=3'>4</a>\u001b[0m confusion_matrix \u001b[39m=\u001b[39m confusion_matrix(y_test, predicted_categories)\n\u001b[1;32m      <a href='vscode-notebook-cell:/Users/gresasmolica/Desktop/Gresa%20Smolica/Hertie%20-%20MDS/Semester%20III/DL/Deep-Learning-Tutorial/Pre_processing/pre_processing.ipynb#Y101sZmlsZQ%3D%3D?line=4'>5</a>\u001b[0m \u001b[39mprint\u001b[39m(confusion_matrix)\n",
      "\u001b[0;31mTypeError\u001b[0m: 'numpy.ndarray' object is not callable"
     ]
    }
   ],
   "source": [
    "print(\"Classification Report:\")\n",
    "print(classification_report(y_test, predicted_categories))\n",
    "\n",
    "confusion_matrix = confusion_matrix(y_test, predicted_categories)"
   ]
  },
  {
   "cell_type": "code",
   "execution_count": 226,
   "metadata": {},
   "outputs": [
    {
     "data": {
      "image/png": "[encoded data removed]",
      "text/plain": [
       "<Figure size 600x400 with 2 Axes>"
      ]
     },
     "metadata": {},
     "output_type": "display_data"
    }
   ],
   "source": [
    "# visualize confusion matrix\n",
    "import seaborn as sns\n",
    "import matplotlib.pyplot as plt\n",
    "\n",
    "plt.figure(figsize=(6, 4))\n",
    "sns.heatmap(confusion_matrix, annot=True, fmt='d', cmap='Purples', xticklabels=selected_categories, yticklabels=selected_categories)\n",
    "plt.title('Confusion Matrix')\n",
    "plt.xlabel('Predicted Labels')\n",
    "plt.ylabel('True Labels')\n",
    "plt.show()"
   ]
  }
 ],
 "metadata": {
  "kernelspec": {
   "display_name": "Python 3",
   "language": "python",
   "name": "python3"
  },
  "language_info": {
   "codemirror_mode": {
    "name": "ipython",
    "version": 3
   },
   "file_extension": ".py",
   "mimetype": "text/x-python",
   "name": "python",
   "nbconvert_exporter": "python",
   "pygments_lexer": "ipython3",
   "version": "3.10.13"
  }
 },
 "nbformat": 4,
 "nbformat_minor": 2
}
